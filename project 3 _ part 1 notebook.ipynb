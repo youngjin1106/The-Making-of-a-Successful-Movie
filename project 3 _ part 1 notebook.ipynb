{
 "cells": [
  {
   "cell_type": "code",
   "execution_count": 1,
   "id": "d46a46cf",
   "metadata": {},
   "outputs": [],
   "source": [
    "# Imports\n",
    "import pandas as pd\n",
    "import numpy as np\n",
    "\n",
    "url1 = \"https://datasets.imdbws.com/title.basics.tsv.gz\"\n",
    "url2 = \"https://datasets.imdbws.com/title.akas.tsv.gz\"\n",
    "url3 = \"https://datasets.imdbws.com/title.ratings.tsv.gz\"\n"
   ]
  },
  {
   "cell_type": "markdown",
   "id": "dd030843",
   "metadata": {},
   "source": [
    "# Cleaning Akas Data"
   ]
  },
  {
   "cell_type": "code",
   "execution_count": 2,
   "id": "01f7defe",
   "metadata": {},
   "outputs": [],
   "source": [
    "# Load akas Data\n",
    "akas = pd.read_csv(url2, sep='\\t', low_memory=False)"
   ]
  },
  {
   "cell_type": "code",
   "execution_count": 3,
   "id": "a74606aa",
   "metadata": {},
   "outputs": [
    {
     "name": "stdout",
     "output_type": "stream",
     "text": [
      "<class 'pandas.core.frame.DataFrame'>\n",
      "Int64Index: 1360806 entries, 5 to 33526010\n",
      "Data columns (total 8 columns):\n",
      " #   Column           Non-Null Count    Dtype \n",
      "---  ------           --------------    ----- \n",
      " 0   titleId          1360806 non-null  object\n",
      " 1   ordering         1360806 non-null  int64 \n",
      " 2   title            1360806 non-null  object\n",
      " 3   region           1360806 non-null  object\n",
      " 4   language         3693 non-null     object\n",
      " 5   types            964828 non-null   object\n",
      " 6   attributes       45194 non-null    object\n",
      " 7   isOriginalTitle  1359431 non-null  object\n",
      "dtypes: int64(1), object(7)\n",
      "memory usage: 93.4+ MB\n"
     ]
    }
   ],
   "source": [
    "akas.replace({'\\\\N':np.nan}, inplace=True)\n",
    "akas = akas[(akas['region'] == 'US')]\n",
    "akas.info()"
   ]
  },
  {
   "cell_type": "markdown",
   "id": "04dcbc30",
   "metadata": {},
   "source": [
    "# Cleaning title.basics dataset"
   ]
  },
  {
   "cell_type": "code",
   "execution_count": 4,
   "id": "f0423d66",
   "metadata": {},
   "outputs": [],
   "source": [
    "# Load basics Data\n",
    "basics = pd.read_csv(url1, sep='\\t', low_memory=False)"
   ]
  },
  {
   "cell_type": "code",
   "execution_count": 5,
   "id": "e4abb70c",
   "metadata": {},
   "outputs": [],
   "source": [
    "# Replace '\\N' with np.nan\n",
    "basics.replace({'\\\\N':np.nan}, inplace=True)"
   ]
  },
  {
   "cell_type": "code",
   "execution_count": 6,
   "id": "0cb7f20c",
   "metadata": {},
   "outputs": [],
   "source": [
    "# Drop any rows that have null values in either genre or runtimeMinutes.\n",
    "basics.dropna(subset=['runtimeMinutes', 'genres'], inplace=True)"
   ]
  },
  {
   "cell_type": "code",
   "execution_count": 7,
   "id": "63db9db9",
   "metadata": {},
   "outputs": [],
   "source": [
    "# Drop all rows where titleType!=Movie. Keep only titleType==Movie\n",
    "is_Movie = basics['titleType'] == 'movie'\n",
    "basics = basics[is_Movie]"
   ]
  },
  {
   "cell_type": "code",
   "execution_count": 8,
   "id": "8076d0f6",
   "metadata": {},
   "outputs": [
    {
     "name": "stdout",
     "output_type": "stream",
     "text": [
      "\n",
      "Data Type before conversion :  object\n",
      "\n",
      "Data Type after conversion :  float64\n"
     ]
    }
   ],
   "source": [
    "# Drop all rows where the start year is not between 2000-2022. Keep startYear 2000-2022\n",
    "\n",
    "# We first need to change the column type to something numeric.\n",
    "print(\"\\nData Type before conversion : \", basics['startYear'].dtype)\n",
    "basics['startYear'] = pd.to_numeric(basics['startYear'])\n",
    "print(\"\\nData Type after conversion : \", basics['startYear'].dtype)\n",
    "\n",
    "#Now we can make and apply our filters\n",
    "filter2000 = basics['startYear'] >= 2000 \n",
    "filter2022 = basics['startYear'] <=2022\n",
    "basics = basics[filter2000 & filter2022]"
   ]
  },
  {
   "cell_type": "code",
   "execution_count": 9,
   "id": "59d59407",
   "metadata": {},
   "outputs": [],
   "source": [
    "# Exclude movies that are included in the documentary category.\n",
    "is_documentary = basics['genres'].str.contains('documentary',case=False)\n",
    "basics = basics[~is_documentary]"
   ]
  },
  {
   "cell_type": "code",
   "execution_count": 10,
   "id": "58051742",
   "metadata": {},
   "outputs": [
    {
     "name": "stdout",
     "output_type": "stream",
     "text": [
      "<class 'pandas.core.frame.DataFrame'>\n",
      "Int64Index: 82979 entries, 34792 to 9305865\n",
      "Data columns (total 9 columns):\n",
      " #   Column          Non-Null Count  Dtype  \n",
      "---  ------          --------------  -----  \n",
      " 0   tconst          82979 non-null  object \n",
      " 1   titleType       82979 non-null  object \n",
      " 2   primaryTitle    82979 non-null  object \n",
      " 3   originalTitle   82979 non-null  object \n",
      " 4   isAdult         82979 non-null  object \n",
      " 5   startYear       82979 non-null  float64\n",
      " 6   endYear         0 non-null      object \n",
      " 7   runtimeMinutes  82979 non-null  object \n",
      " 8   genres          82979 non-null  object \n",
      "dtypes: float64(1), object(8)\n",
      "memory usage: 6.3+ MB\n"
     ]
    }
   ],
   "source": [
    "# Filter the basics table down to only include the US by using the filter akas dataframe\n",
    "keepers_basics = basics['tconst'].isin(akas['titleId'])\n",
    "basics = basics[keepers_basics]\n",
    "\n",
    "basics.info()"
   ]
  },
  {
   "cell_type": "markdown",
   "id": "2816ec2a",
   "metadata": {},
   "source": [
    "# Lets clean ratings"
   ]
  },
  {
   "cell_type": "code",
   "execution_count": 11,
   "id": "86348754",
   "metadata": {},
   "outputs": [],
   "source": [
    "# Load ratings Data\n",
    "ratings = pd.read_csv(url3, sep='\\t', low_memory=False)"
   ]
  },
  {
   "cell_type": "code",
   "execution_count": 12,
   "id": "956af3b3",
   "metadata": {},
   "outputs": [
    {
     "name": "stdout",
     "output_type": "stream",
     "text": [
      "<class 'pandas.core.frame.DataFrame'>\n",
      "Int64Index: 472011 entries, 0 to 1238831\n",
      "Data columns (total 3 columns):\n",
      " #   Column         Non-Null Count   Dtype  \n",
      "---  ------         --------------   -----  \n",
      " 0   tconst         472011 non-null  object \n",
      " 1   averageRating  472011 non-null  float64\n",
      " 2   numVotes       472011 non-null  int64  \n",
      "dtypes: float64(1), int64(1), object(1)\n",
      "memory usage: 14.4+ MB\n"
     ]
    }
   ],
   "source": [
    "ratings.replace({'\\\\N':np.nan}, inplace=True)\n",
    "keepers = ratings['tconst'].isin(akas['titleId'])\n",
    "ratings = ratings[keepers]\n",
    "\n",
    "ratings.info()"
   ]
  },
  {
   "cell_type": "markdown",
   "id": "a0f80634",
   "metadata": {},
   "source": [
    "# save clean files"
   ]
  },
  {
   "cell_type": "code",
   "execution_count": 13,
   "id": "bcc45c59",
   "metadata": {},
   "outputs": [],
   "source": [
    "# Save current dataframe to file.\n",
    "basics.to_csv(\"Data/title_basics.csv.gz\",compression='gzip',index=False)\n",
    "akas.to_csv(\"Data/title_akas.csv.gz\",compression='gzip',index=False)\n",
    "ratings.to_csv(\"Data/title_ratings.csv.gz\",compression='gzip',index=False)"
   ]
  },
  {
   "cell_type": "code",
   "execution_count": null,
   "id": "ef5bc39c",
   "metadata": {},
   "outputs": [],
   "source": []
  },
  {
   "cell_type": "code",
   "execution_count": null,
   "id": "e3e9c018",
   "metadata": {},
   "outputs": [],
   "source": []
  }
 ],
 "metadata": {
  "kernelspec": {
   "display_name": "Python (dojo-env)",
   "language": "python",
   "name": "dojo-env"
  },
  "language_info": {
   "codemirror_mode": {
    "name": "ipython",
    "version": 3
   },
   "file_extension": ".py",
   "mimetype": "text/x-python",
   "name": "python",
   "nbconvert_exporter": "python",
   "pygments_lexer": "ipython3",
   "version": "3.8.13"
  },
  "toc": {
   "base_numbering": 1,
   "nav_menu": {},
   "number_sections": false,
   "sideBar": true,
   "skip_h1_title": false,
   "title_cell": "Table of Contents",
   "title_sidebar": "Contents",
   "toc_cell": false,
   "toc_position": {},
   "toc_section_display": true,
   "toc_window_display": false
  }
 },
 "nbformat": 4,
 "nbformat_minor": 5
}
